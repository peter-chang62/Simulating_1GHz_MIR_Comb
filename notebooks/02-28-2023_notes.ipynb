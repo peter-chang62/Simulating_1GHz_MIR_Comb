{
 "cells": [
  {
   "cell_type": "markdown",
   "metadata": {},
   "source": [
    "# Coherent Noise comments from Connor "
   ]
  },
  {
   "cell_type": "markdown",
   "metadata": {},
   "source": [
    "\\begin{equation}\n",
    "        |\\alpha\\rangle = e^{-\\frac{|\\alpha|^2}{2}}\n",
    "            \\sum_{n=0}^\\infty \\frac{\\alpha^n}{\\sqrt{n!}} |n\\rangle\n",
    "\\end{equation}"
   ]
  },
  {
   "cell_type": "markdown",
   "metadata": {},
   "source": [
    " This **is not** shot noise (which is related to the collapse of coherent states onto discrete number states during\n",
    "photon detection), but the noise due to the quantum uncertainty of a coherent state's amplitude and phase. A\n",
    "coherent state $|\\alpha\\rangle$ is defined by a displacement $\\alpha$ and the set of number states\n",
    "$|n\\rangle$:"
   ]
  },
  {
   "cell_type": "markdown",
   "metadata": {},
   "source": [
    "The probability distribution $P[\\alpha]$ of finding a coherent state with displacement $\\alpha$, given an average displacement $\\beta$, is as follows:"
   ]
  },
  {
   "cell_type": "markdown",
   "metadata": {},
   "source": [
    "\\begin{align}\n",
    "&\\text{with } \\alpha = x_1 + i \\, x_2 \\\\\n",
    "P[\\alpha] &= \\frac{1}{\\pi} |\\langle \\alpha | \\beta\\rangle|^2= \\frac{1}{\\pi} e^{-|\\alpha - \\beta|^2}\n",
    "\\end{align}"
   ]
  },
  {
   "cell_type": "markdown",
   "metadata": {},
   "source": [
    "where $x_1$ and $x_2$ are the root-photon normalized \"amplitude\" and \"phase\" (real and imaginary) field quadratures."
   ]
  },
  {
   "cell_type": "markdown",
   "metadata": {},
   "source": [
    "Since the probability distribution is gaussian the noise is completely described by the variance of the two quadratures,\n",
    "which are scaled to the number of photons ($N=\\alpha^2$). The combined noise from both quadratures gives a total\n",
    "variance of one photon per measurement:\n",
    "\n",
    "\\begin{align}\n",
    "\\sigma_{x_1}^2 = \\sigma_{x_2}^2 = \\frac{1}{2} \\\\\n",
    "\\sigma_\\alpha^2 = \\sigma_{x_1}^2 + \\sigma_{x_2}^2 = 1\n",
    "\\end{align}"
   ]
  },
  {
   "cell_type": "markdown",
   "metadata": {},
   "source": [
    "The width of the probability distribution is independent of the average\n",
    "displacement of the coherent state, so the root-photon noise may be\n",
    "generated independently by sampling a standard normal distribution\n",
    "centered about zero mean. Also, since the Fourier transform of gaussian\n",
    "noise is also gaussian noise, the root-photon noise can be equivalently\n",
    "generated in either the time or frequency domains. Normalizing to the\n",
    "number of photons per measurement interval, the root photon noise for both\n",
    "quadratures becomes $1/\\sqrt{2 dt}$ for the time domain and\n",
    "$1/\\sqrt{2 dv}$ for frequency domain. The final root-power noise is\n",
    "found by multiplying the frequency domain root-photon noise by the square\n",
    "root of the photon energy associated with each bin's frequency."
   ]
  }
 ],
 "metadata": {
  "kernelspec": {
   "display_name": "Python 3 (ipykernel)",
   "language": "python",
   "name": "python3"
  },
  "language_info": {
   "codemirror_mode": {
    "name": "ipython",
    "version": 3
   },
   "file_extension": ".py",
   "mimetype": "text/x-python",
   "name": "python",
   "nbconvert_exporter": "python",
   "pygments_lexer": "ipython3",
   "version": "3.8.16"
  },
  "vscode": {
   "interpreter": {
    "hash": "258070bbdee670bbf29a8642083bc005e2f651baebfe5d917a0b3fe5609b4131"
   }
  }
 },
 "nbformat": 4,
 "nbformat_minor": 2
}
